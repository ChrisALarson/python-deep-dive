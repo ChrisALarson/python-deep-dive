{
 "cells": [
  {
   "cell_type": "code",
   "execution_count": 3,
   "metadata": {},
   "outputs": [
    {
     "name": "stdout",
     "output_type": "stream",
     "text": [
      "0\n",
      "1\n",
      "2\n",
      "3\n",
      "4\n"
     ]
    }
   ],
   "source": [
    "i = 0\n",
    "while i < 5:\n",
    "    print(i)\n",
    "    i += 1"
   ]
  },
  {
   "cell_type": "code",
   "execution_count": 5,
   "metadata": {},
   "outputs": [
    {
     "name": "stdout",
     "output_type": "stream",
     "text": [
      "5\n"
     ]
    }
   ],
   "source": [
    "i = 5\n",
    "while True:\n",
    "    print(i)\n",
    "    if i >= 5:\n",
    "        break\n",
    "        print('something')"
   ]
  },
  {
   "cell_type": "code",
   "execution_count": 6,
   "metadata": {},
   "outputs": [
    {
     "name": "stdout",
     "output_type": "stream",
     "text": [
      "Please enter your name:12\n",
      "Please enter your name:a\n",
      "Please enter your name:b\n",
      "Please enter your name:1fe2\n",
      "Please enter your name:Chris\n",
      "Hello, Chris\n"
     ]
    }
   ],
   "source": [
    "min_length = 2\n",
    "name = input(\"Please enter your name:\")\n",
    "\n",
    "while not(len(name) >= min_length and name.isprintable() and name.isalpha()):\n",
    "    name = input(\"Please enter your name:\")\n",
    "\n",
    "print(\"Hello, {0}\".format(name))"
   ]
  },
  {
   "cell_type": "code",
   "execution_count": 7,
   "metadata": {},
   "outputs": [
    {
     "name": "stdout",
     "output_type": "stream",
     "text": [
      "Please enter your name:12\n",
      "Please enter your name:a\n",
      "Please enter your name:b\n",
      "Please enter your name:Chris\n",
      "Hello, Chris\n"
     ]
    }
   ],
   "source": [
    "min_length = 2\n",
    "\n",
    "while True:\n",
    "    name = input(\"Please enter your name:\")\n",
    "    if len(name) >= min_length and name.isprintable() and name.isalpha():\n",
    "        break\n",
    "\n",
    "print(\"Hello, {0}\".format(name))"
   ]
  },
  {
   "cell_type": "code",
   "execution_count": 9,
   "metadata": {},
   "outputs": [
    {
     "name": "stdout",
     "output_type": "stream",
     "text": [
      "1\n",
      "3\n",
      "5\n",
      "7\n",
      "9\n"
     ]
    }
   ],
   "source": [
    "# continue bails out of iteration, and continues loop\n",
    "\n",
    "a = 0\n",
    "while a < 10:\n",
    "    a += 1\n",
    "    if a % 2 == 0:\n",
    "        continue\n",
    "    print(a)"
   ]
  },
  {
   "cell_type": "code",
   "execution_count": 11,
   "metadata": {},
   "outputs": [
    {
     "name": "stdout",
     "output_type": "stream",
     "text": [
      "[1, 10, 2, 3]\n"
     ]
    }
   ],
   "source": [
    "l = [1, 10, 2, 3]\n",
    "val = 10\n",
    "\n",
    "found = False\n",
    "idx = 0\n",
    "while idx < len(l):\n",
    "    if l[idx] == val:\n",
    "        found = True\n",
    "        break\n",
    "    idx += 1\n",
    "\n",
    "if not found:\n",
    "    l.append(val)\n",
    "    \n",
    "print(l)"
   ]
  },
  {
   "cell_type": "code",
   "execution_count": 13,
   "metadata": {},
   "outputs": [
    {
     "name": "stdout",
     "output_type": "stream",
     "text": [
      "[1, 10, 2, 3]\n"
     ]
    }
   ],
   "source": [
    "l = [1, 10, 2, 3]\n",
    "val = 10\n",
    "idx = 0\n",
    "\n",
    "while idx < len(l):\n",
    "    if l[idx] == val:\n",
    "        break\n",
    "    idx += 1\n",
    "else: # else only runs if loop completes without a break \n",
    "    l.append(val)\n",
    "    \n",
    "print(l)"
   ]
  },
  {
   "cell_type": "code",
   "execution_count": 15,
   "metadata": {},
   "outputs": [
    {
     "name": "stdout",
     "output_type": "stream",
     "text": [
      "division by 0\n",
      "this always executes\n"
     ]
    }
   ],
   "source": [
    "a = 10\n",
    "b = 0\n",
    "try:\n",
    "    a / b\n",
    "except ZeroDivisionError:\n",
    "    print('division by 0')\n",
    "finally:\n",
    "    print('this always executes')"
   ]
  },
  {
   "cell_type": "code",
   "execution_count": 19,
   "metadata": {},
   "outputs": [
    {
     "name": "stdout",
     "output_type": "stream",
     "text": [
      "---------\n",
      "1, 1 - this always executes\n",
      "1, 1 - main loop\n",
      "---------\n",
      "2, 0 - division by 0\n",
      "2, 0 - this always executes\n",
      "---------\n",
      "3, -1 - this always executes\n",
      "3, -1 - main loop\n",
      "---------\n",
      "4, -2 - this always executes\n",
      "4, -2 - main loop\n"
     ]
    }
   ],
   "source": [
    "a = 0\n",
    "b = 2\n",
    "\n",
    "while a < 4:\n",
    "    print('---------')\n",
    "    a += 1\n",
    "    b -= 1\n",
    "    \n",
    "    try:\n",
    "        a / b\n",
    "    except ZeroDivisionError:\n",
    "        print(\"{0}, {1} - division by 0\".format(a, b))\n",
    "        continue\n",
    "    finally: # finally always executes, even when continue is hit!\n",
    "        print(\"{0}, {1} - this always executes\".format(a,b))\n",
    "    \n",
    "    print(\"{0}, {1} - main loop\".format(a,b))"
   ]
  },
  {
   "cell_type": "code",
   "execution_count": 23,
   "metadata": {},
   "outputs": [
    {
     "name": "stdout",
     "output_type": "stream",
     "text": [
      "---------\n",
      "1, 9 - this always executes\n",
      "1, 9 - main loop\n",
      "---------\n",
      "2, 8 - this always executes\n",
      "2, 8 - main loop\n",
      "---------\n",
      "3, 7 - this always executes\n",
      "3, 7 - main loop\n",
      "---------\n",
      "4, 6 - this always executes\n",
      "4, 6 - main loop\n",
      "code executed without a zero division error\n"
     ]
    }
   ],
   "source": [
    "a = 0\n",
    "b = 10\n",
    "\n",
    "while a < 4:\n",
    "    print('---------')\n",
    "    a += 1\n",
    "    b -= 1\n",
    "    \n",
    "    try:\n",
    "        a / b\n",
    "    except ZeroDivisionError:\n",
    "        print(\"{0}, {1} - division by 0\".format(a, b))\n",
    "        break\n",
    "    finally: # finally always executes, even when break is hit!\n",
    "        print(\"{0}, {1} - this always executes\".format(a,b))\n",
    "    \n",
    "    print(\"{0}, {1} - main loop\".format(a,b))\n",
    "\n",
    "else:\n",
    "    print('code executed without a zero division error')"
   ]
  }
 ],
 "metadata": {
  "kernelspec": {
   "display_name": "Python 3",
   "language": "python",
   "name": "python3"
  },
  "language_info": {
   "codemirror_mode": {
    "name": "ipython",
    "version": 3
   },
   "file_extension": ".py",
   "mimetype": "text/x-python",
   "name": "python",
   "nbconvert_exporter": "python",
   "pygments_lexer": "ipython3",
   "version": "3.7.0"
  }
 },
 "nbformat": 4,
 "nbformat_minor": 2
}
